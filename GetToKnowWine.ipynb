{
 "cells": [
  {
   "cell_type": "markdown",
   "metadata": {},
   "source": [
    "## Import the necessary libraries"
   ]
  },
  {
   "cell_type": "code",
   "execution_count": 43,
   "metadata": {},
   "outputs": [],
   "source": [
    "import pandas as pd\n",
    "import matplotlib.pyplot as plt"
   ]
  },
  {
   "cell_type": "markdown",
   "metadata": {},
   "source": [
    "## Load the dataset"
   ]
  },
  {
   "cell_type": "code",
   "execution_count": 44,
   "metadata": {},
   "outputs": [
    {
     "data": {
      "text/html": [
       "<div>\n",
       "<style scoped>\n",
       "    .dataframe tbody tr th:only-of-type {\n",
       "        vertical-align: middle;\n",
       "    }\n",
       "\n",
       "    .dataframe tbody tr th {\n",
       "        vertical-align: top;\n",
       "    }\n",
       "\n",
       "    .dataframe thead th {\n",
       "        text-align: right;\n",
       "    }\n",
       "</style>\n",
       "<table border=\"1\" class=\"dataframe\">\n",
       "  <thead>\n",
       "    <tr style=\"text-align: right;\">\n",
       "      <th></th>\n",
       "      <th>country</th>\n",
       "      <th>description</th>\n",
       "      <th>designation</th>\n",
       "      <th>points</th>\n",
       "      <th>price</th>\n",
       "      <th>province</th>\n",
       "      <th>region_1</th>\n",
       "      <th>region_2</th>\n",
       "      <th>taster_name</th>\n",
       "      <th>taster_twitter_handle</th>\n",
       "      <th>title</th>\n",
       "      <th>variety</th>\n",
       "      <th>winery</th>\n",
       "    </tr>\n",
       "  </thead>\n",
       "  <tbody>\n",
       "    <tr>\n",
       "      <th>0</th>\n",
       "      <td>Italy</td>\n",
       "      <td>Aromas include tropical fruit, broom, brimston...</td>\n",
       "      <td>Vulkà Bianco</td>\n",
       "      <td>87</td>\n",
       "      <td>NaN</td>\n",
       "      <td>Sicily &amp; Sardinia</td>\n",
       "      <td>Etna</td>\n",
       "      <td>NaN</td>\n",
       "      <td>Kerin O’Keefe</td>\n",
       "      <td>@kerinokeefe</td>\n",
       "      <td>Nicosia 2013 Vulkà Bianco  (Etna)</td>\n",
       "      <td>White Blend</td>\n",
       "      <td>Nicosia</td>\n",
       "    </tr>\n",
       "    <tr>\n",
       "      <th>1</th>\n",
       "      <td>Portugal</td>\n",
       "      <td>This is ripe and fruity, a wine that is smooth...</td>\n",
       "      <td>Avidagos</td>\n",
       "      <td>87</td>\n",
       "      <td>15.0</td>\n",
       "      <td>Douro</td>\n",
       "      <td>NaN</td>\n",
       "      <td>NaN</td>\n",
       "      <td>Roger Voss</td>\n",
       "      <td>@vossroger</td>\n",
       "      <td>Quinta dos Avidagos 2011 Avidagos Red (Douro)</td>\n",
       "      <td>Portuguese Red</td>\n",
       "      <td>Quinta dos Avidagos</td>\n",
       "    </tr>\n",
       "    <tr>\n",
       "      <th>2</th>\n",
       "      <td>US</td>\n",
       "      <td>Tart and snappy, the flavors of lime flesh and...</td>\n",
       "      <td>NaN</td>\n",
       "      <td>87</td>\n",
       "      <td>14.0</td>\n",
       "      <td>Oregon</td>\n",
       "      <td>Willamette Valley</td>\n",
       "      <td>Willamette Valley</td>\n",
       "      <td>Paul Gregutt</td>\n",
       "      <td>@paulgwine</td>\n",
       "      <td>Rainstorm 2013 Pinot Gris (Willamette Valley)</td>\n",
       "      <td>Pinot Gris</td>\n",
       "      <td>Rainstorm</td>\n",
       "    </tr>\n",
       "    <tr>\n",
       "      <th>3</th>\n",
       "      <td>US</td>\n",
       "      <td>Pineapple rind, lemon pith and orange blossom ...</td>\n",
       "      <td>Reserve Late Harvest</td>\n",
       "      <td>87</td>\n",
       "      <td>13.0</td>\n",
       "      <td>Michigan</td>\n",
       "      <td>Lake Michigan Shore</td>\n",
       "      <td>NaN</td>\n",
       "      <td>Alexander Peartree</td>\n",
       "      <td>NaN</td>\n",
       "      <td>St. Julian 2013 Reserve Late Harvest Riesling ...</td>\n",
       "      <td>Riesling</td>\n",
       "      <td>St. Julian</td>\n",
       "    </tr>\n",
       "    <tr>\n",
       "      <th>4</th>\n",
       "      <td>US</td>\n",
       "      <td>Much like the regular bottling from 2012, this...</td>\n",
       "      <td>Vintner's Reserve Wild Child Block</td>\n",
       "      <td>87</td>\n",
       "      <td>65.0</td>\n",
       "      <td>Oregon</td>\n",
       "      <td>Willamette Valley</td>\n",
       "      <td>Willamette Valley</td>\n",
       "      <td>Paul Gregutt</td>\n",
       "      <td>@paulgwine</td>\n",
       "      <td>Sweet Cheeks 2012 Vintner's Reserve Wild Child...</td>\n",
       "      <td>Pinot Noir</td>\n",
       "      <td>Sweet Cheeks</td>\n",
       "    </tr>\n",
       "  </tbody>\n",
       "</table>\n",
       "</div>"
      ],
      "text/plain": [
       "    country                                        description  \\\n",
       "0     Italy  Aromas include tropical fruit, broom, brimston...   \n",
       "1  Portugal  This is ripe and fruity, a wine that is smooth...   \n",
       "2        US  Tart and snappy, the flavors of lime flesh and...   \n",
       "3        US  Pineapple rind, lemon pith and orange blossom ...   \n",
       "4        US  Much like the regular bottling from 2012, this...   \n",
       "\n",
       "                          designation  points  price           province  \\\n",
       "0                        Vulkà Bianco      87    NaN  Sicily & Sardinia   \n",
       "1                            Avidagos      87   15.0              Douro   \n",
       "2                                 NaN      87   14.0             Oregon   \n",
       "3                Reserve Late Harvest      87   13.0           Michigan   \n",
       "4  Vintner's Reserve Wild Child Block      87   65.0             Oregon   \n",
       "\n",
       "              region_1           region_2         taster_name  \\\n",
       "0                 Etna                NaN       Kerin O’Keefe   \n",
       "1                  NaN                NaN          Roger Voss   \n",
       "2    Willamette Valley  Willamette Valley        Paul Gregutt   \n",
       "3  Lake Michigan Shore                NaN  Alexander Peartree   \n",
       "4    Willamette Valley  Willamette Valley        Paul Gregutt   \n",
       "\n",
       "  taster_twitter_handle                                              title  \\\n",
       "0          @kerinokeefe                  Nicosia 2013 Vulkà Bianco  (Etna)   \n",
       "1            @vossroger      Quinta dos Avidagos 2011 Avidagos Red (Douro)   \n",
       "2           @paulgwine       Rainstorm 2013 Pinot Gris (Willamette Valley)   \n",
       "3                   NaN  St. Julian 2013 Reserve Late Harvest Riesling ...   \n",
       "4           @paulgwine   Sweet Cheeks 2012 Vintner's Reserve Wild Child...   \n",
       "\n",
       "          variety               winery  \n",
       "0     White Blend              Nicosia  \n",
       "1  Portuguese Red  Quinta dos Avidagos  \n",
       "2      Pinot Gris            Rainstorm  \n",
       "3        Riesling           St. Julian  \n",
       "4      Pinot Noir         Sweet Cheeks  "
      ]
     },
     "execution_count": 44,
     "metadata": {},
     "output_type": "execute_result"
    }
   ],
   "source": [
    "df = pd.read_csv('./winemag-data-130k-v2.csv', index_col=0)\n",
    "df.head()"
   ]
  },
  {
   "cell_type": "markdown",
   "metadata": {},
   "source": [
    "## Get general informations about the dataset\n",
    "* Number of rows\n",
    "* Number of columns\n",
    "* List of columns\n",
    "* Type of each column"
   ]
  },
  {
   "cell_type": "code",
   "execution_count": 45,
   "metadata": {},
   "outputs": [
    {
     "name": "stdout",
     "output_type": "stream",
     "text": [
      "<class 'pandas.core.frame.DataFrame'>\n",
      "Int64Index: 129971 entries, 0 to 129970\n",
      "Data columns (total 13 columns):\n",
      " #   Column                 Non-Null Count   Dtype  \n",
      "---  ------                 --------------   -----  \n",
      " 0   country                129908 non-null  object \n",
      " 1   description            129971 non-null  object \n",
      " 2   designation            92506 non-null   object \n",
      " 3   points                 129971 non-null  int64  \n",
      " 4   price                  120975 non-null  float64\n",
      " 5   province               129908 non-null  object \n",
      " 6   region_1               108724 non-null  object \n",
      " 7   region_2               50511 non-null   object \n",
      " 8   taster_name            103727 non-null  object \n",
      " 9   taster_twitter_handle  98758 non-null   object \n",
      " 10  title                  129971 non-null  object \n",
      " 11  variety                129970 non-null  object \n",
      " 12  winery                 129971 non-null  object \n",
      "dtypes: float64(1), int64(1), object(11)\n",
      "memory usage: 13.9+ MB\n"
     ]
    }
   ],
   "source": [
    "df.info()"
   ]
  },
  {
   "cell_type": "markdown",
   "metadata": {},
   "source": [
    "## Clean the data before processed further"
   ]
  },
  {
   "cell_type": "markdown",
   "metadata": {},
   "source": [
    "### 1. Exclude unnecessary columns"
   ]
  },
  {
   "cell_type": "code",
   "execution_count": 46,
   "metadata": {},
   "outputs": [
    {
     "data": {
      "text/html": [
       "<div>\n",
       "<style scoped>\n",
       "    .dataframe tbody tr th:only-of-type {\n",
       "        vertical-align: middle;\n",
       "    }\n",
       "\n",
       "    .dataframe tbody tr th {\n",
       "        vertical-align: top;\n",
       "    }\n",
       "\n",
       "    .dataframe thead th {\n",
       "        text-align: right;\n",
       "    }\n",
       "</style>\n",
       "<table border=\"1\" class=\"dataframe\">\n",
       "  <thead>\n",
       "    <tr style=\"text-align: right;\">\n",
       "      <th></th>\n",
       "      <th>country</th>\n",
       "      <th>points</th>\n",
       "      <th>variety</th>\n",
       "    </tr>\n",
       "  </thead>\n",
       "  <tbody>\n",
       "    <tr>\n",
       "      <th>0</th>\n",
       "      <td>Italy</td>\n",
       "      <td>87</td>\n",
       "      <td>White Blend</td>\n",
       "    </tr>\n",
       "    <tr>\n",
       "      <th>1</th>\n",
       "      <td>Portugal</td>\n",
       "      <td>87</td>\n",
       "      <td>Portuguese Red</td>\n",
       "    </tr>\n",
       "    <tr>\n",
       "      <th>2</th>\n",
       "      <td>US</td>\n",
       "      <td>87</td>\n",
       "      <td>Pinot Gris</td>\n",
       "    </tr>\n",
       "    <tr>\n",
       "      <th>3</th>\n",
       "      <td>US</td>\n",
       "      <td>87</td>\n",
       "      <td>Riesling</td>\n",
       "    </tr>\n",
       "    <tr>\n",
       "      <th>4</th>\n",
       "      <td>US</td>\n",
       "      <td>87</td>\n",
       "      <td>Pinot Noir</td>\n",
       "    </tr>\n",
       "  </tbody>\n",
       "</table>\n",
       "</div>"
      ],
      "text/plain": [
       "    country  points         variety\n",
       "0     Italy      87     White Blend\n",
       "1  Portugal      87  Portuguese Red\n",
       "2        US      87      Pinot Gris\n",
       "3        US      87        Riesling\n",
       "4        US      87      Pinot Noir"
      ]
     },
     "execution_count": 46,
     "metadata": {},
     "output_type": "execute_result"
    }
   ],
   "source": [
    "df = df[['country', 'points', 'variety']]\n",
    "df.head()"
   ]
  },
  {
   "cell_type": "markdown",
   "metadata": {},
   "source": [
    "### 2. Check if there are any missing values in each column"
   ]
  },
  {
   "cell_type": "code",
   "execution_count": 47,
   "metadata": {},
   "outputs": [
    {
     "data": {
      "text/plain": [
       "country    63\n",
       "points      0\n",
       "variety     1\n",
       "dtype: int64"
      ]
     },
     "execution_count": 47,
     "metadata": {},
     "output_type": "execute_result"
    }
   ],
   "source": [
    "df.isna().sum()"
   ]
  },
  {
   "cell_type": "markdown",
   "metadata": {},
   "source": [
    "### 3. Remove rows with missing missing values"
   ]
  },
  {
   "cell_type": "code",
   "execution_count": 48,
   "metadata": {},
   "outputs": [
    {
     "data": {
      "text/plain": [
       "country    0\n",
       "points     0\n",
       "variety    0\n",
       "dtype: int64"
      ]
     },
     "execution_count": 48,
     "metadata": {},
     "output_type": "execute_result"
    }
   ],
   "source": [
    "# Drop rows with missing values in the dataframe\n",
    "df.dropna(inplace=True)\n",
    "\n",
    "# Re-check to unsure that there are no missing values\n",
    "df.isna().sum()"
   ]
  },
  {
   "cell_type": "markdown",
   "metadata": {},
   "source": [
    "## Question 1: What are the varieties of wine?"
   ]
  },
  {
   "cell_type": "markdown",
   "metadata": {},
   "source": [
    "### a. Get only the unique values in the column 'variety'"
   ]
  },
  {
   "cell_type": "code",
   "execution_count": 49,
   "metadata": {},
   "outputs": [
    {
     "name": "stdout",
     "output_type": "stream",
     "text": [
      "701\n",
      "['White Blend' 'Portuguese Red' 'Pinot Gris' 'Riesling' 'Pinot Noir'\n",
      " 'Tempranillo-Merlot' 'Frappato' 'Gewürztraminer' 'Cabernet Sauvignon'\n",
      " 'Nerello Mascalese' 'Chardonnay' 'Malbec' 'Tempranillo Blend' 'Meritage'\n",
      " 'Red Blend' 'Merlot' \"Nero d'Avola\" 'Chenin Blanc' 'Gamay'\n",
      " 'Sauvignon Blanc' 'Viognier-Chardonnay' 'Primitivo' 'Catarratto'\n",
      " 'Inzolia' 'Petit Verdot' 'Monica' 'Bordeaux-style White Blend' 'Grillo'\n",
      " 'Sangiovese' 'Cabernet Franc' 'Champagne Blend'\n",
      " 'Bordeaux-style Red Blend' 'Aglianico' 'Petite Sirah' 'Touriga Nacional'\n",
      " 'Carmenère' 'Albariño' 'Petit Manseng' 'Rosé' 'Zinfandel' 'Vernaccia'\n",
      " 'Rosato' 'Grüner Veltliner' 'Viognier' 'Vermentino' 'Grenache Blanc'\n",
      " 'Syrah' 'Nebbiolo' 'Shiraz-Cabernet Sauvignon' 'Pinot Blanc'\n",
      " 'Alsace white blend' 'Barbera' 'Rhône-style Red Blend' 'Portuguese White'\n",
      " 'Graciano' 'Tannat-Cabernet' 'Sauvignon' 'Sangiovese Grosso' 'Torrontés'\n",
      " 'Prugnolo Gentile' 'G-S-M' 'Verdejo' 'Fumé Blanc' 'Furmint'\n",
      " 'Pinot Bianco' 'Bonarda' 'Shiraz' 'Montepulciano' 'Moscato' 'Grenache'\n",
      " 'Ugni Blanc-Colombard' 'Syrah-Viognier' 'Blaufränkisch' 'Friulano'\n",
      " 'Assyrtico' 'Carignan-Grenache' 'Sagrantino' 'Savagnin'\n",
      " 'Cabernet Sauvignon-Syrah' 'Prosecco' 'Vignoles' 'Sparkling Blend'\n",
      " 'Muscat' 'Muscadelle' 'Shiraz-Viognier' 'Garganega' 'Pinot Grigio'\n",
      " 'Tempranillo' 'Zierfandler' 'Cortese' 'Mencía' 'Zweigelt' 'Melon'\n",
      " 'Rhône-style White Blend' 'Vidal' 'Cannonau' 'Verdelho' 'Marsanne'\n",
      " 'Scheurebe' 'Kerner' 'Syrah-Grenache' 'Dolcetto' 'Vilana' 'Glera' 'Viura'\n",
      " 'Garnacha Tintorera' 'Pinot Nero' 'Roter Veltliner' 'Pinotage' 'Sémillon'\n",
      " 'Pinot Noir-Gamay' 'Antão Vaz' 'Cabernet Sauvignon-Carmenère'\n",
      " 'Verdejo-Viura' 'Verduzzo' 'Verdicchio' 'Silvaner' 'Colombard'\n",
      " 'Carricante' 'Sylvaner' 'Fiano' 'Früburgunder' 'Sousão' 'Roussanne'\n",
      " 'Avesso' 'Cinsault' 'Tinta Miúda' 'Muscat Blanc à Petits Grains'\n",
      " 'Portuguese Sparkling' 'Monastrell' 'Xarel-lo' 'Greco' 'Trebbiano'\n",
      " 'Corvina, Rondinella, Molinara' 'Port' 'Chenin Blanc-Chardonnay'\n",
      " 'Insolia' 'Merlot-Malbec' 'Ribolla Gialla' 'Cabernet Sauvignon-Merlot'\n",
      " 'Duras' 'Weissburgunder' 'Roditis' 'Traminer' 'Papaskarasi'\n",
      " 'Tannat-Syrah' 'Marsanne-Roussanne' 'Charbono' 'Merlot-Argaman'\n",
      " 'Prié Blanc' 'Sherry' 'Provence red blend' 'Tannat' 'Zibibbo'\n",
      " 'Falanghina' 'Garnacha' 'Negroamaro' 'Mourvèdre' 'Syrah-Cabernet'\n",
      " 'Müller-Thurgau' 'Pinot Meunier' 'Cabernet Sauvignon-Sangiovese'\n",
      " 'Austrian Red Blend' 'Teroldego' 'Pansa Blanca' 'Muskat Ottonel'\n",
      " 'Sauvignon Blanc-Semillon' 'Claret' 'Semillon-Sauvignon Blanc' 'Bical'\n",
      " 'Moscatel' 'Rosado' 'Viura-Chardonnay' 'Baga' 'Malvasia Bianca'\n",
      " 'Gelber Muskateller' 'Malbec-Merlot' 'Monastrell-Syrah' 'Malbec-Tannat'\n",
      " 'Malbec-Cabernet Franc' 'Turbiana' 'Refosco' 'Alvarinho' 'Manzoni'\n",
      " 'Aragonês' 'Agiorgitiko' 'Malagousia' 'Assyrtiko' 'Ruché'\n",
      " 'Welschriesling' 'Tinta de Toro' 'Cabernet Moravia' 'Rieslaner'\n",
      " 'Traminette' 'Chambourcin' 'Nero di Troia' 'Lambrusco di Sorbara'\n",
      " 'Cesanese' 'Feteasca Neagra' 'Lagrein' 'Tinta Fina' 'St. Laurent'\n",
      " 'Marsanne-Viognier' 'Cabernet Sauvignon-Shiraz'\n",
      " 'Syrah-Cabernet Sauvignon' 'Gewürztraminer-Riesling' 'Pugnitello'\n",
      " 'Cerceal' 'Touriga Nacional Blend' 'Austrian white blend' 'Tocai'\n",
      " 'Tinta Roriz' 'Chardonnay-Viognier' 'Fernão Pires'\n",
      " 'Cabernet Franc-Cabernet Sauvignon' 'Grenache-Syrah' 'Seyval Blanc'\n",
      " 'Muscat Canelli' 'Cabernet Merlot' 'Tempranillo-Cabernet Sauvignon'\n",
      " 'Arinto' 'Aragonez' 'Merlot-Cabernet Franc' 'Syrah-Petite Sirah'\n",
      " 'Cabernet Blend' 'Maturana' 'Pecorino' 'Rotgipfler' 'Kinali Yapincak'\n",
      " 'Cabernet Franc-Carmenère' 'Magliocco' 'Gamay Noir' 'Sauvignon Gris'\n",
      " 'Spätburgunder' 'Picpoul' 'Vidal Blanc' 'Albanello' 'White Port' 'Arneis'\n",
      " 'Malvasia' 'Plavac Mali' 'Lemberger' 'Saperavi' 'Altesse' 'Blanc du Bois'\n",
      " 'Provence white blend' 'Nosiola' 'Dornfelder' 'Roussanne-Viognier'\n",
      " 'Godello' 'Mondeuse' 'Perricone' 'Pedro Ximénez' 'Auxerrois'\n",
      " 'Syrah-Merlot' 'Albana' 'Muskat' 'Lambrusco' 'Cabernet Sauvignon-Malbec'\n",
      " 'Tinto Fino' 'Malbec-Cabernet Sauvignon' 'Moschofilero' 'Grechetto'\n",
      " 'Encruzado' 'Carignano' 'Cabernet Franc-Merlot' 'Torbato'\n",
      " 'Syrah-Petit Verdot' 'Garnacha Blanca' 'Pallagrello' 'Morava'\n",
      " 'Syrah-Mourvèdre' 'Aleatico' 'Carcajolu' 'Kisi' 'Shiraz-Grenache'\n",
      " 'Palomino' 'Grenache-Carignan' 'Nascetta' 'Siria' 'Malbec-Syrah'\n",
      " 'Asprinio' 'Feteascǎ Regalǎ' 'Lambrusco Grasparossa' 'Marselan'\n",
      " 'Tocai Friulano' 'Schiava' 'Alfrocheiro' 'Chardonnay-Semillon' 'Corvina'\n",
      " 'Norton' 'Alicante Bouschet' 'Tokaji' 'Moscadello'\n",
      " 'Cabernet Sauvignon-Tempranillo' 'Carignan' 'Loureiro-Arinto'\n",
      " 'Cabernet-Syrah' 'Sauvignon Blanc-Chardonnay' 'Symphony' 'Edelzwicker'\n",
      " 'Madeira Blend' 'Black Muscat' 'Grenache Noir' 'Durella' 'Xinomavro'\n",
      " 'Tinto del Pais' 'Merlot-Cabernet Sauvignon' 'Cercial'\n",
      " 'Johannisberg Riesling' 'Petite Verdot' 'Passerina' 'Valdiguié'\n",
      " 'Colombard-Sauvignon Blanc' 'Kangoun' 'Loureiro' 'Posip' 'Uva di Troia'\n",
      " 'Gros and Petit Manseng' 'Jacquère' 'Kalecik Karasi' 'Karasakiz'\n",
      " 'Mourvèdre-Syrah' 'Negrette' 'Zierfandler-Rotgipfler' 'Clairette'\n",
      " 'Raboso' 'País' 'Mauzac' 'Pinot Auxerrois' 'Chenin Blanc-Sauvignon Blanc'\n",
      " 'Diamond' 'Marzemino' 'Tinta Barroca' 'Chardonnay-Sauvignon Blanc'\n",
      " 'Castelão' 'Trebbiano Spoletino' 'Teran' 'Trepat' 'Freisa' 'Neuburger'\n",
      " 'Sämling' 'Chasselas' 'Hárslevelü' 'Trincadeira' 'Merlot-Tannat'\n",
      " 'Rkatsiteli' 'Siegerrebe' 'Trousseau Gris' 'Grenache Blend'\n",
      " 'Gros Manseng' 'Portuguese Rosé' 'Brachetto' 'Mantonico' 'Ekigaïna'\n",
      " 'Muskateller' 'Aligoté' 'Sangiovese Cabernet'\n",
      " 'Touriga Nacional-Cabernet Sauvignon' 'Muscat Blanc' 'Argaman'\n",
      " 'Viognier-Roussanne' 'Pallagrello Bianco' 'Bobal' 'Malvasia Istriana'\n",
      " 'Cabernet Sauvignon-Cabernet Franc' 'Baco Noir' 'Veltliner'\n",
      " 'Tempranillo-Tannat' 'Morillon' 'Touriga Franca' 'Picolit'\n",
      " 'Barbera-Nebbiolo' 'Prieto Picudo' 'Gaglioppo' 'Tokay' 'Sacy'\n",
      " 'Piedirosso' 'Piquepoul Blanc' 'Mansois' 'Chardonnay-Sauvignon'\n",
      " 'Tempranillo-Garnacha' 'Carmenère-Cabernet Sauvignon'\n",
      " 'Chenin Blanc-Viognier' 'Susumaniello' 'Vitovska' 'Orange Muscat'\n",
      " 'Grauburgunder' 'Carignane' 'Moscatel Roxo' 'Tannat-Merlot'\n",
      " 'Nerello Cappuccio' 'Counoise' 'Macabeo' 'Mazuelo' 'Sauvignon-Sémillon'\n",
      " 'Tinta del Pais' 'Vranec' 'Mavrud' \"Cesanese d'Affile\" 'Moscato Giallo'\n",
      " 'Debit' 'Verdil' 'Cabernet' 'Verduzzo Friulano ' 'Treixadura'\n",
      " \"Loin de l'Oeil\" 'Coda di Volpe' 'Grenache-Mourvèdre' 'Forcallà'\n",
      " 'Viura-Verdejo' 'Bombino Bianco' 'Pinot-Chardonnay' 'Syrah-Tempranillo'\n",
      " 'Cabernet Sauvignon-Barbera' 'Merlot-Cabernet' \"Muscat d'Alexandrie\"\n",
      " 'Jaen' 'Tinta del Toro' 'Timorasso' 'Pigato'\n",
      " 'Sangiovese-Cabernet Sauvignon' 'Shiraz-Cabernet'\n",
      " 'Viognier-Gewürztraminer' 'Prunelard' 'Sauvignon Blanc-Chenin Blanc'\n",
      " 'Gros Plant' 'Malbec-Petit Verdot' 'Colombard-Ugni Blanc' 'Grignolino'\n",
      " 'Garnacha-Syrah' 'Rufete' 'Tempranillo-Shiraz' 'Mtsvane'\n",
      " 'Chardonnay-Pinot Gris' 'Marawi' 'Chardonnay-Pinot Blanc' 'Mataro'\n",
      " 'Tinta Cao' 'Blauer Portugieser' 'Ugni Blanc' 'Groppello'\n",
      " 'Semillon-Chardonnay' 'Irsai Oliver' 'Alvarelhão' 'Poulsard'\n",
      " 'Grenache-Shiraz' 'Baga-Touriga Nacional' 'Carineña' 'Pignoletto'\n",
      " 'Muscatel' 'Mavrodaphne' 'Ciliegiolo' 'Viognier-Grenache Blanc'\n",
      " 'Greco Bianco' 'Cabernet Sauvignon-Merlot-Shiraz' 'Sciaccerellu' 'Zelen'\n",
      " 'Alicante' 'Emir' 'Rosenmuskateller' 'Narince' 'Malbec-Cabernet'\n",
      " 'Touriga' 'Grecanico' 'Carmenère-Syrah' 'Madeleine Angevine' 'Mavroudi'\n",
      " 'Pinot Blanc-Pinot Noir' 'Muscat Hamburg' 'Tempranillo Blanco'\n",
      " 'Casavecchia' 'Pinot Gris-Gewürztraminer' 'White Riesling'\n",
      " 'Tinto Velasco' 'Hondarrabi Zuri' 'Nuragus' 'Xynisteri' 'Kadarka'\n",
      " 'Sauvignon Musqué' 'Roussanne-Marsanne' 'Incrocio Manzoni' 'Terrantez'\n",
      " 'Bual' 'Okuzgozu' 'Rivaner' 'Doña Blanca' 'Graševina'\n",
      " 'Lambrusco Salamino' 'Sangiovese-Syrah' 'Tannat-Cabernet Franc'\n",
      " 'Thrapsathiri' 'Fer Servadou' 'Mission' 'Kekfrankos' 'Cococciola'\n",
      " 'Blauburgunder' 'Marquette' 'Romorantin' 'Verdejo-Sauvignon Blanc'\n",
      " 'Braucol' 'Malvasia-Viura' 'Savatiano' 'Cabernet Franc-Malbec'\n",
      " 'Pallagrello Nero' 'Rebula' 'Vespolina' 'Shiraz-Malbec' 'Rebo'\n",
      " 'Macabeo-Chardonnay' 'Tempranillo-Malbec' 'Tamjanika' 'Chinuri'\n",
      " 'Trousseau' 'Bacchus' 'Syrah-Malbec' 'Syrah-Cabernet Franc'\n",
      " 'Macabeo-Moscatel' 'Cariñena-Garnacha' 'Plyto' 'Códega do Larinho'\n",
      " 'Sideritis' 'Çalkarası' 'Azal' 'Moscatel Graúdo' 'Viosinho'\n",
      " 'Moschofilero-Chardonnay' 'Paralleda' 'Rara Neagra' 'Malvasia di Candia'\n",
      " 'Maria Gomes' 'Molinara' 'Malvar' 'Airen' 'Erbaluce'\n",
      " 'Muscat of Alexandria' 'Verdosilla' 'Abouriou' 'Pinot Noir-Syrah'\n",
      " 'Nielluciu' 'Malbec-Bonarda' 'Vespaiolo' 'Malbec-Carménère' 'Biancolella'\n",
      " 'Sauvignon Blanc-Verdejo' 'Aidani' 'Garnacha-Monastrell' 'Vinhão'\n",
      " 'Souzao' 'Roter Traminer' 'Moscatel de Alejandría' 'Rolle'\n",
      " 'Tinta Francisca' 'Malvasia Nera' 'Orangetraube' 'Riesling-Chardonnay'\n",
      " 'Žilavka' 'Portuguiser' 'Listán Negro' 'Pinotage-Merlot' 'Muscadine'\n",
      " 'Maria Gomes-Bical' 'Grolleau' 'Zlahtina' 'Syrah-Grenache-Viognier'\n",
      " 'Jacquez' 'Gouveio' 'Canaiolo' 'Carignan-Syrah' 'Bombino Nero'\n",
      " 'Chardonnay-Riesling' 'Malagouzia-Chardonnay' 'Mavrotragano' 'Bovale'\n",
      " 'Frankovka' 'Shiraz-Roussanne' 'Cabernet-Shiraz' 'Syrah-Carignan'\n",
      " 'Elbling' 'Gragnano' 'Garnacha Blend' 'Pinot Blanc-Chardonnay'\n",
      " 'Schwartzriesling' 'Petit Meslier' 'Bastardo' 'Vidadillo' 'Misket'\n",
      " 'Chardonnay Weissburgunder' 'Other' 'Robola' 'Merlot-Shiraz' 'Malagouzia'\n",
      " 'Folle Blanche' 'Malbec Blend' 'Merlot-Syrah' 'Tamianka'\n",
      " 'Cabernet Pfeffer' 'Morio Muskat' 'Rabigato' 'Babić' 'Roviello'\n",
      " 'Yapincak' 'Sauvignonasse' 'Viognier-Marsanne' 'Mandilaria' 'Meseguera'\n",
      " 'Alvarinho-Chardonnay' 'Saperavi-Merlot' 'Pinot Blanc-Viognier'\n",
      " 'Teroldego Rotaliano' 'Biancu Gentile' 'Garnacha-Tempranillo' 'Xinisteri'\n",
      " 'Sauvignon Blanc-Sauvignon Gris' 'Trebbiano di Lugana' 'Albarossa'\n",
      " 'Ryzlink Rýnský' 'Verdeca' 'Cabernet Sauvignon Grenache'\n",
      " 'Tămâioasă Românească' 'Black Monukka' 'Merlot-Grenache'\n",
      " 'Tempranillo-Syrah' 'Chardonel' 'Silvaner-Traminer' 'Uvalino'\n",
      " 'Merseguera-Sauvignon Blanc' 'Cabernet-Malbec' 'Boğazkere'\n",
      " 'Gelber Traminer' 'Vermentino Nero' 'Cayuga' 'Tinta Amarela'\n",
      " 'Tinta Negra Mole' 'Moscato Rosa' 'Chelois' 'Sauvignon Blanc-Assyrtiko'\n",
      " 'Muscadel' 'Shiraz-Tempranillo' 'Roussanne-Grenache Blanc' 'Biancale'\n",
      " 'Ansonica' 'Syrah-Bonarda' 'Durif' 'Franconia' 'Malbec-Tempranillo'\n",
      " 'Nasco' 'Monastrell-Petit Verdot' 'Sirica' 'Vital' 'Espadeiro' 'Apple'\n",
      " 'Pinot Grigio-Sauvignon Blanc' 'Blatina' 'Karalahna' 'Feteasca' 'Sercial'\n",
      " 'Valvin Muscat' 'Malvasia Fina' 'Roditis-Moschofilero' 'St. Vincent'\n",
      " 'Chancellor' 'Premsal' 'Jampal' 'Tokay Pinot Gris' 'Colorino' 'Picapoll'\n",
      " 'Blauburger' 'Tinta Madeira' 'Centesimino' 'Grenache Gris' 'Trajadura'\n",
      " 'Merlot-Petite Verdot' 'Ramisco' 'Catalanesca' 'Garnacha-Cabernet'\n",
      " 'Garnacha-Cariñena' 'Gamza' 'Cabernet Franc-Lemberger'\n",
      " 'Chardonnay-Albariño' 'Shiraz-Mourvèdre' 'Mavrokalavryta' 'Favorita'\n",
      " 'Babosa Negro' 'Tintilia ' 'Dafni' 'Petit Courbu' 'Kotsifali' 'Parraleta'\n",
      " 'Moscato di Noto' 'Roscetto' 'Torontel' 'Viognier-Valdiguié' 'Trollinger'\n",
      " 'Francisa' 'Kuntra' 'Pignolo' 'Caprettone' 'Ondenc' 'Athiri'\n",
      " 'Bobal-Cabernet Sauvignon']\n"
     ]
    }
   ],
   "source": [
    "# Print the number of wine varieties\n",
    "print(len(df['variety'].unique()))\n",
    "\n",
    "# Print the wine list of wine varieties\n",
    "print(df['variety'].unique())"
   ]
  },
  {
   "cell_type": "markdown",
   "metadata": {},
   "source": [
    "See that there are so many (701) varieties of wine."
   ]
  },
  {
   "cell_type": "markdown",
   "metadata": {},
   "source": [
    "### b. Get the top 3 most popular wine varieties"
   ]
  },
  {
   "cell_type": "code",
   "execution_count": 50,
   "metadata": {},
   "outputs": [
    {
     "data": {
      "text/plain": [
       "Pinot Noir            13269\n",
       "Chardonnay            11750\n",
       "Cabernet Sauvignon     9470\n",
       "Name: variety, dtype: int64"
      ]
     },
     "execution_count": 50,
     "metadata": {},
     "output_type": "execute_result"
    }
   ],
   "source": [
    "top_variety = df['variety'].value_counts()[:3]\n",
    "top_variety"
   ]
  },
  {
   "cell_type": "markdown",
   "metadata": {},
   "source": [
    "### c. Calculate the portion of the top 3 most popular wines in the dataset"
   ]
  },
  {
   "cell_type": "code",
   "execution_count": 51,
   "metadata": {},
   "outputs": [
    {
     "data": {
      "text/plain": [
       "Other                 95418\n",
       "Pinot Noir            13269\n",
       "Chardonnay            11750\n",
       "Cabernet Sauvignon     9470\n",
       "Name: variety, dtype: int64"
      ]
     },
     "execution_count": 51,
     "metadata": {},
     "output_type": "execute_result"
    }
   ],
   "source": [
    "# a function to rename the non-top varieties\n",
    "def rename_non_top_variety(variety, new_name='Other'):\n",
    "    if variety in top_variety.index:\n",
    "        return variety\n",
    "    else:\n",
    "        return new_name\n",
    "\n",
    "# rename all the non-top varieties\n",
    "top_variety_and_other = df['variety'].apply(\n",
    "    lambda i: rename_non_top_variety(i)\n",
    ")\n",
    "\n",
    "# Show the number of the top varieties against the other varieties\n",
    "top_variety_and_other.value_counts()"
   ]
  },
  {
   "cell_type": "markdown",
   "metadata": {},
   "source": [
    "### d. Plot the portion of the top 3 most popular wines in a pie chart"
   ]
  },
  {
   "cell_type": "code",
   "execution_count": 52,
   "metadata": {},
   "outputs": [
    {
     "data": {
      "text/plain": [
       "<matplotlib.legend.Legend at 0x7fa221cb6220>"
      ]
     },
     "execution_count": 52,
     "metadata": {},
     "output_type": "execute_result"
    },
    {
     "data": {
      "image/png": "[encoded data removed]",
      "text/plain": [
       "<Figure size 432x288 with 1 Axes>"
      ]
     },
     "metadata": {},
     "output_type": "display_data"
    }
   ],
   "source": [
    "# Create the pie chart\n",
    "plt.pie(\n",
    "    top_variety_and_other.value_counts().sort_values(),\n",
    "    autopct='%.1f%%',\n",
    "    explode=(0.05,0.05,0.05,0.05),\n",
    ")\n",
    "\n",
    "# Add title to the pie chart\n",
    "plt.title('The Top 3 Wine Varieties',fontdict={'color': 'white'})\n",
    "\n",
    "# Add legend to the pie chart\n",
    "plt.figlegend(\n",
    "    labels=top_variety_and_other.value_counts().sort_values().index,\n",
    "    loc='upper left'\n",
    ")"
   ]
  },
  {
   "cell_type": "markdown",
   "metadata": {},
   "source": [
    "## Question 2: Now I know some varieties, which one to pick then?"
   ]
  },
  {
   "cell_type": "markdown",
   "metadata": {},
   "source": [
    "### a. Calculate the average points of each popular wine (Pinot Noir, Cabernet Sauvignon, Chardonnay)"
   ]
  },
  {
   "cell_type": "code",
   "execution_count": 53,
   "metadata": {},
   "outputs": [],
   "source": [
    "# calculate the average points of each variety\n",
    "points_per_variety = df.groupby('variety')['points'].mean()\n",
    "\n",
    "# get the points of the top 3 popular wines\n",
    "points_top_varieties = points_per_variety.loc[top_variety.index]"
   ]
  },
  {
   "cell_type": "markdown",
   "metadata": {},
   "source": [
    "### b. Plot the average points of Pinot Noir, Cabernet Sauvignon, and Chardonnay in a bar chart"
   ]
  },
  {
   "cell_type": "code",
   "execution_count": 62,
   "metadata": {},
   "outputs": [
    {
     "data": {
      "text/plain": [
       "<AxesSubplot:title={'center':'The Average Points of The Top 3 Popular Wines'}, ylabel='Average Points'>"
      ]
     },
     "execution_count": 62,
     "metadata": {},
     "output_type": "execute_result"
    },
    {
     "data": {
      "image/png": "[encoded data removed]",
      "text/plain": [
       "<Figure size 432x288 with 1 Axes>"
      ]
     },
     "metadata": {
      "needs_background": "light"
     },
     "output_type": "display_data"
    }
   ],
   "source": [
    "points_top_varieties.plot(\n",
    "    kind='bar',\n",
    "    ylabel='Average Points',\n",
    "    title='The Average Points of The Top 3 Popular Wines'\n",
    ")"
   ]
  },
  {
   "cell_type": "markdown",
   "metadata": {},
   "source": [
    "## 3. Are the most popular wines the best wines?"
   ]
  },
  {
   "cell_type": "markdown",
   "metadata": {},
   "source": [
    "### a. Get the top 3 varieties in terms of points"
   ]
  },
  {
   "cell_type": "code",
   "execution_count": 55,
   "metadata": {},
   "outputs": [
    {
     "data": {
      "text/plain": [
       "variety\n",
       "Tinta del Pais     95.0\n",
       "Gelber Traminer    95.0\n",
       "Terrantez          95.0\n",
       "Name: points, dtype: float64"
      ]
     },
     "execution_count": 55,
     "metadata": {},
     "output_type": "execute_result"
    }
   ],
   "source": [
    "top_points_variety = points_per_variety.sort_values(ascending=False)[:3]\n",
    "top_points_variety"
   ]
  },
  {
   "cell_type": "markdown",
   "metadata": {},
   "source": [
    "### b. Plot the top 3 varieties in terms of points in a bar chart"
   ]
  },
  {
   "cell_type": "code",
   "execution_count": 60,
   "metadata": {},
   "outputs": [
    {
     "data": {
      "text/plain": [
       "<AxesSubplot:title={'center':'The Top 3 Varieties in Terms of Points'}, ylabel='Average Points'>"
      ]
     },
     "execution_count": 60,
     "metadata": {},
     "output_type": "execute_result"
    },
    {
     "data": {
      "image/png": "[encoded data removed]",
      "text/plain": [
       "<Figure size 432x288 with 1 Axes>"
      ]
     },
     "metadata": {
      "needs_background": "light"
     },
     "output_type": "display_data"
    }
   ],
   "source": [
    "top_points_variety.plot(\n",
    "    xlabel='',\n",
    "    kind='bar',\n",
    "    ylabel='Average Points',\n",
    "    title='The Top 3 Varieties in Terms of Points'\n",
    ")"
   ]
  }
 ],
 "metadata": {
  "interpreter": {
   "hash": "eaca3c6afe6a006eab5abc20b02900f1ec8a9b617b9a10d02828d9a68071724c"
  },
  "kernelspec": {
   "display_name": "Python 3.8.10 64-bit ('.venv': venv)",
   "language": "python",
   "name": "python3"
  },
  "language_info": {
   "codemirror_mode": {
    "name": "ipython",
    "version": 3
   },
   "file_extension": ".py",
   "mimetype": "text/x-python",
   "name": "python",
   "nbconvert_exporter": "python",
   "pygments_lexer": "ipython3",
   "version": "3.8.10"
  },
  "orig_nbformat": 4
 },
 "nbformat": 4,
 "nbformat_minor": 2
}
